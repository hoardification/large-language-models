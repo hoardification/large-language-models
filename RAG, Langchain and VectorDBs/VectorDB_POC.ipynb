{
 "cells": [
  {
   "cell_type": "code",
   "execution_count": 4,
   "metadata": {},
   "outputs": [
    {
     "name": "stdout",
     "output_type": "stream",
     "text": [
      "Note: you may need to restart the kernel to use updated packages.\n",
      "Note: you may need to restart the kernel to use updated packages.\n",
      "Note: you may need to restart the kernel to use updated packages.\n",
      "Note: you may need to restart the kernel to use updated packages.\n",
      "Note: you may need to restart the kernel to use updated packages.\n",
      "Note: you may need to restart the kernel to use updated packages.\n",
      "Note: you may need to restart the kernel to use updated packages.\n",
      "Note: you may need to restart the kernel to use updated packages.\n",
      "Note: you may need to restart the kernel to use updated packages.\n"
     ]
    }
   ],
   "source": [
    "%pip install -q torch \n",
    "%pip install -q transformers \n",
    "%pip install -q accelerate \n",
    "%pip install -q bitsandbytes \n",
    "%pip install -q langchain \n",
    "%pip install -q sentence-transformers \n",
    "%pip install -q faiss-cpu \n",
    "%pip install -q openpyxl \n",
    "%pip install -q pacmap"
   ]
  },
  {
   "cell_type": "code",
   "execution_count": 11,
   "metadata": {},
   "outputs": [],
   "source": [
    "import os\n",
    "import dbutils\n",
    "\n",
    "whereami = os.environ.get(\"WHEREAMI\")\n",
    "if whereami==\"shane-local\":\n",
    "    print(whereami)\n",
    "elif whereami==\"databricks\":\n",
    "    print(whereami)\n",
    "    import dbutils\n",
    "    dbutils.library.restartPython()"
   ]
  },
  {
   "cell_type": "code",
   "execution_count": 13,
   "metadata": {},
   "outputs": [
    {
     "ename": "AttributeError",
     "evalue": "module 'dbutils' has no attribute 'secrets'",
     "output_type": "error",
     "traceback": [
      "\u001b[0;31m---------------------------------------------------------------------------\u001b[0m",
      "\u001b[0;31mAttributeError\u001b[0m                            Traceback (most recent call last)",
      "Cell \u001b[0;32mIn[13], line 2\u001b[0m\n\u001b[1;32m      1\u001b[0m \u001b[38;5;28;01mimport\u001b[39;00m \u001b[38;5;21;01mdbutils\u001b[39;00m\n\u001b[0;32m----> 2\u001b[0m \u001b[43mdbutils\u001b[49m\u001b[38;5;241;43m.\u001b[39;49m\u001b[43msecrets\u001b[49m\u001b[38;5;241m.\u001b[39mlistScopes()\n\u001b[1;32m      4\u001b[0m \u001b[38;5;66;03m# Out[14]: [SecretScope(name='my-scope')]\u001b[39;00m\n",
      "\u001b[0;31mAttributeError\u001b[0m: module 'dbutils' has no attribute 'secrets'"
     ]
    }
   ],
   "source": [
    "import dbutils\n",
    "dbutils.secrets.listScopes()\n",
    "\n",
    "# Out[14]: [SecretScope(name='my-scope')]\n"
   ]
  }
 ],
 "metadata": {
  "kernelspec": {
   "display_name": ".venv",
   "language": "python",
   "name": "python3"
  },
  "language_info": {
   "codemirror_mode": {
    "name": "ipython",
    "version": 3
   },
   "file_extension": ".py",
   "mimetype": "text/x-python",
   "name": "python",
   "nbconvert_exporter": "python",
   "pygments_lexer": "ipython3",
   "version": "3.11.9"
  }
 },
 "nbformat": 4,
 "nbformat_minor": 2
}
