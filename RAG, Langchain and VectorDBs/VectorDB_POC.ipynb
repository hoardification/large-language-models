{
 "cells": [
  {
   "cell_type": "code",
   "execution_count": 14,
   "metadata": {
    "application/vnd.databricks.v1+cell": {
     "cellMetadata": {
      "byteLimit": 2048000,
      "rowLimit": 10000
     },
     "inputWidgets": {},
     "nuid": "3b7b2323-cd55-4e23-9ea6-25e60928b3ca",
     "showTitle": false,
     "title": ""
    }
   },
   "outputs": [
    {
     "name": "stdout",
     "output_type": "stream",
     "text": [
      "Requirement already satisfied: dbutils in /Users/shanehamilton/Documents/GitHub/large-language-models/.venv/lib/python3.11/site-packages (3.1.0)\n",
      "Note: you may need to restart the kernel to use updated packages.\n"
     ]
    }
   ],
   "source": [
    "\n",
    "\n",
    "import os\n",
    "\n",
    "whereami = os.environ.get(\"WHEREAMI\")\n",
    "\n",
    "if whereami==\"shane-local\":\n",
    "    print(whereami)\n",
    "elif whereami==\"databricks-sandbox\":\n",
    "    %pip install dbutils\n",
    "    print(whereami)\n",
    "    dbutils.secrets.listScopes()\n",
    "    dbutils.library.restartPython()\n",
    "elif whereami==\"databricks-prod\":\n",
    "    %pip install dbutils\n",
    "    print(whereami)\n",
    "    dbutils.secrets.listScopes()\n",
    "    dbutils.library.restartPython()\n",
    "    \n"
   ]
  },
  {
   "cell_type": "code",
   "execution_count": null,
   "metadata": {
    "application/vnd.databricks.v1+cell": {
     "cellMetadata": {
      "byteLimit": 2048000,
      "rowLimit": 10000
     },
     "inputWidgets": {},
     "nuid": "21f2c1e1-f121-4403-b87a-c9b6a376977f",
     "showTitle": false,
     "title": ""
    }
   },
   "outputs": [],
   "source": [
    "%pip install -q torch \n",
    "%pip install -q transformers \n",
    "%pip install -q accelerate \n",
    "%pip install -q bitsandbytes \n",
    "%pip install -q langchain \n",
    "%pip install -q sentence-transformers \n",
    "%pip install -q faiss-gpu \n",
    "%pip install -q openpyxl \n",
    "%pip install -q pacmap"
   ]
  },
  {
   "cell_type": "code",
   "execution_count": null,
   "metadata": {
    "application/vnd.databricks.v1+cell": {
     "cellMetadata": {
      "byteLimit": 2048000,
      "rowLimit": 10000
     },
     "inputWidgets": {},
     "nuid": "d487546e-35c1-4ba5-b5b1-19ecc247c844",
     "showTitle": false,
     "title": ""
    }
   },
   "outputs": [],
   "source": []
  }
 ],
 "metadata": {
  "application/vnd.databricks.v1+notebook": {
   "dashboards": [],
   "language": "python",
   "notebookMetadata": {
    "pythonIndentUnit": 4
   },
   "notebookName": "VectorDB_POC",
   "widgets": {}
  },
  "kernelspec": {
   "display_name": ".venv",
   "language": "python",
   "name": "python3"
  },
  "language_info": {
   "codemirror_mode": {
    "name": "ipython",
    "version": 3
   },
   "file_extension": ".py",
   "mimetype": "text/x-python",
   "name": "python",
   "nbconvert_exporter": "python",
   "pygments_lexer": "ipython3",
   "version": "3.11.9"
  }
 },
 "nbformat": 4,
 "nbformat_minor": 0
}
