{
 "cells": [
  {
   "cell_type": "code",
   "execution_count": 1,
   "metadata": {},
   "outputs": [],
   "source": [
    "# Databricks notebook source\n",
    "# MAGIC %md ## Find good models for your tasks\n",
    "# MAGIC\n",
    "# MAGIC In each subsection below, you will solve a given task with an LLM of your choosing.  These tasks vary from straightforward to open-ended:\n",
    "# MAGIC * **Summarization**: There are many summarization models out there, and many are simply plug-and-play.\n",
    "# MAGIC * **Translation**: This task can require more work since models support varying numbers of languages, and in different ways.  Make sure you invoke your chosen model with the right parameters.\n",
    "# MAGIC * **Few-shot learning**: This task is very open-ended, where you hope to demonstrate your goals to the LLM with just a few examples.  Choosing those examples and phrasing your task correctly can be more art than science.\n",
    "# MAGIC\n",
    "# MAGIC Recall these tips from the lecture and demo:\n",
    "# MAGIC * Use the [Hugging Face Hub](https://huggingface.co/models).\n",
    "# MAGIC * Filter by task, license, language, etc. as needed.\n",
    "# MAGIC * If you have limited compute resources, check model sizes to keep execution times lower.\n",
    "# MAGIC * Search for existing examples as well.  It can be helpful to see exactly how models should be loaded and used."
   ]
  },
  {
   "cell_type": "code",
   "execution_count": 3,
   "metadata": {},
   "outputs": [],
   "source": [
    "# COMMAND ----------\n",
    "\n",
    "from datasets import load_dataset\n",
    "from transformers import pipeline\n",
    "\n",
    "# COMMAND ---------\n",
    "\n",
    "# MAGIC %md ### Question 1: Summarization\n",
    "# MAGIC\n",
    "# MAGIC In this section, you will find a model from the Hugging Face Hub for a new summarization problem. **Do not use a T5 model**; find and use a model different from the one we used in the demo notebook.\n",
    "# MAGIC\n",
    "# MAGIC We will use the same [xsum](https://huggingface.co/datasets/xsum) dataset."
   ]
  },
  {
   "cell_type": "code",
   "execution_count": 4,
   "metadata": {},
   "outputs": [
    {
     "ename": "NameError",
     "evalue": "name 'DA' is not defined",
     "output_type": "error",
     "traceback": [
      "\u001b[0;31m---------------------------------------------------------------------------\u001b[0m",
      "\u001b[0;31mNameError\u001b[0m                                 Traceback (most recent call last)",
      "Cell \u001b[0;32mIn[4], line 4\u001b[0m\n\u001b[1;32m      1\u001b[0m \u001b[38;5;66;03m# COMMAND ----------\u001b[39;00m\n\u001b[1;32m      3\u001b[0m xsum_dataset \u001b[38;5;241m=\u001b[39m load_dataset(\n\u001b[0;32m----> 4\u001b[0m     \u001b[38;5;124m\"\u001b[39m\u001b[38;5;124mxsum\u001b[39m\u001b[38;5;124m\"\u001b[39m, version\u001b[38;5;241m=\u001b[39m\u001b[38;5;124m\"\u001b[39m\u001b[38;5;124m1.2.0\u001b[39m\u001b[38;5;124m\"\u001b[39m, cache_dir\u001b[38;5;241m=\u001b[39m\u001b[43mDA\u001b[49m\u001b[38;5;241m.\u001b[39mpaths\u001b[38;5;241m.\u001b[39mdatasets\n\u001b[1;32m      5\u001b[0m )  \u001b[38;5;66;03m# Note: We specify cache_dir to use predownloaded data.\u001b[39;00m\n\u001b[1;32m      6\u001b[0m xsum_sample \u001b[38;5;241m=\u001b[39m xsum_dataset[\u001b[38;5;124m\"\u001b[39m\u001b[38;5;124mtrain\u001b[39m\u001b[38;5;124m\"\u001b[39m]\u001b[38;5;241m.\u001b[39mselect(\u001b[38;5;28mrange\u001b[39m(\u001b[38;5;241m10\u001b[39m))\n\u001b[1;32m      7\u001b[0m display(xsum_sample\u001b[38;5;241m.\u001b[39mto_pandas())\n",
      "\u001b[0;31mNameError\u001b[0m: name 'DA' is not defined"
     ]
    }
   ],
   "source": [
    "# COMMAND ----------\n",
    "\n",
    "xsum_dataset = load_dataset(\n",
    "    \"xsum\", version=\"1.2.0\", cache_dir=DA.paths.datasets\n",
    ")  # Note: We specify cache_dir to use predownloaded data.\n",
    "xsum_sample = xsum_dataset[\"train\"].select(range(10))\n",
    "display(xsum_sample.to_pandas())"
   ]
  },
  {
   "cell_type": "code",
   "execution_count": null,
   "metadata": {},
   "outputs": [],
   "source": [
    "# COMMAND ----------\n",
    "\n",
    "# MAGIC %md\n",
    "# MAGIC Similarly to how we found and applied a model for summarization previously, fill in the missing parts below to create a pipeline using an existing LLM---but with a different model.  Then apply the pipeline to the sample batch of articles.\n"
   ]
  },
  {
   "cell_type": "code",
   "execution_count": null,
   "metadata": {},
   "outputs": [],
   "source": [
    "# COMMAND ----------\n",
    "\n",
    "# TODO\n",
    "\n",
    "# Constructor a summarization pipeline\n",
    "summarizer = <FILL_IN>\n",
    "\n",
    "# Apply the pipeline to the batch of articles in `xsum_sample`\n",
    "summarization_results = <FILL_IN>\n",
    "summarization_results"
   ]
  }
 ],
 "metadata": {
  "kernelspec": {
   "display_name": ".venv",
   "language": "python",
   "name": "python3"
  },
  "language_info": {
   "codemirror_mode": {
    "name": "ipython",
    "version": 3
   },
   "file_extension": ".py",
   "mimetype": "text/x-python",
   "name": "python",
   "nbconvert_exporter": "python",
   "pygments_lexer": "ipython3",
   "version": "3.11.9"
  }
 },
 "nbformat": 4,
 "nbformat_minor": 2
}
